{
 "cells": [
  {
   "cell_type": "code",
   "execution_count": 2,
   "id": "ddc6fa1c",
   "metadata": {},
   "outputs": [],
   "source": [
    "import numpy as np\n",
    "import pandas as pd"
   ]
  },
  {
   "cell_type": "code",
   "execution_count": 3,
   "id": "4aa02888",
   "metadata": {},
   "outputs": [],
   "source": [
    "import cv2"
   ]
  },
  {
   "cell_type": "code",
   "execution_count": 4,
   "id": "dfa03a24",
   "metadata": {},
   "outputs": [],
   "source": [
    "def faceBox(faceNet,frame):\n",
    "    frameHeight = frame.shape[0]\n",
    "    frameWidth = frame.shape[1]\n",
    "    \n",
    "    blob=cv2.dnn.blobFromImage(frame,1.0,(227,227), [104,117,123],swapRB=False)\n",
    "    faceNet.setInput(blob)\n",
    "    detection=faceNet.forward()\n",
    "    bbox=[]\n",
    "    for i in range(detection.shape[2]):\n",
    "        confidence =  detection[0,0,i,2]\n",
    "        if confidence>0.7:\n",
    "            x1=int(detection[0,0,i,3]*frameWidth)\n",
    "            y1=int(detection[0,0,i,4]*frameHeight)\n",
    "            x2=int(detection[0,0,i,5]*frameWidth)\n",
    "            y2=int(detection[0,0,i,6]*frameHeight)\n",
    "            bbox.append([x1,y1,x2,y2])\n",
    "            cv2.rectangle(frame,(x1,y1),(x2,y2),(0,255,0),1)\n",
    "\n",
    "    return frame, bbox"
   ]
  },
  {
   "cell_type": "code",
   "execution_count": null,
   "id": "ca6a0464",
   "metadata": {},
   "outputs": [],
   "source": []
  },
  {
   "cell_type": "code",
   "execution_count": null,
   "id": "a7b0c451",
   "metadata": {},
   "outputs": [],
   "source": []
  },
  {
   "cell_type": "code",
   "execution_count": null,
   "id": "bf22460d",
   "metadata": {},
   "outputs": [],
   "source": []
  },
  {
   "cell_type": "code",
   "execution_count": 5,
   "id": "22d3bbca",
   "metadata": {},
   "outputs": [],
   "source": [
    "faceProto = \"opencv_face_detector.pbtxt\"\n",
    "faceModel = \"opencv_face_detector_uint8.pb\""
   ]
  },
  {
   "cell_type": "code",
   "execution_count": 6,
   "id": "34acb735",
   "metadata": {},
   "outputs": [],
   "source": [
    "ageProto = \"age_deploy.prototxt\"\n",
    "ageModel = \"age_net.caffemodel\""
   ]
  },
  {
   "cell_type": "code",
   "execution_count": 7,
   "id": "ee378c83",
   "metadata": {},
   "outputs": [],
   "source": [
    "genderProto = \"gender_deploy.prototxt\"\n",
    "genderModel = \"gender_net.caffemodel\""
   ]
  },
  {
   "cell_type": "code",
   "execution_count": 8,
   "id": "f4cbd6b9",
   "metadata": {},
   "outputs": [],
   "source": [
    "faceNet = cv2.dnn.readNet(faceModel,faceProto)"
   ]
  },
  {
   "cell_type": "code",
   "execution_count": 9,
   "id": "55dd5a60",
   "metadata": {},
   "outputs": [],
   "source": [
    "ageNet = cv2.dnn.readNet(ageModel,ageProto)"
   ]
  },
  {
   "cell_type": "code",
   "execution_count": 10,
   "id": "acd0a215",
   "metadata": {},
   "outputs": [],
   "source": [
    "genderNet = cv2.dnn.readNet(genderModel,genderProto)"
   ]
  },
  {
   "cell_type": "code",
   "execution_count": null,
   "id": "3f23912c",
   "metadata": {},
   "outputs": [],
   "source": []
  },
  {
   "cell_type": "code",
   "execution_count": 11,
   "id": "0be9dac6",
   "metadata": {},
   "outputs": [],
   "source": [
    "MODEL_MEAN_VALUES = (78.4263377603, 87.7689143744,114.895847746)"
   ]
  },
  {
   "cell_type": "code",
   "execution_count": 12,
   "id": "de13467a",
   "metadata": {},
   "outputs": [],
   "source": [
    "ageList = ['(0-2)','(4-6)','(8-12)','(15-20)','(25-32)','(38-43)','(48-53)','(60-100)']"
   ]
  },
  {
   "cell_type": "code",
   "execution_count": 13,
   "id": "42102bb0",
   "metadata": {},
   "outputs": [],
   "source": [
    "genderList=['Male','Female'];"
   ]
  },
  {
   "cell_type": "code",
   "execution_count": null,
   "id": "28028534",
   "metadata": {},
   "outputs": [],
   "source": [
    "video = cv2.VideoCapture(0)"
   ]
  },
  {
   "cell_type": "code",
   "execution_count": null,
   "id": "d3aea40a",
   "metadata": {},
   "outputs": [],
   "source": [
    "# output_file = open('output.txt', 'w')\n",
    "\n",
    "while True:\n",
    "    ret, frame = video.read()\n",
    "    if not ret:\n",
    "        print(\"Failed to grab frame\")\n",
    "        break\n",
    "#     output_file.write(str(detect) + '\\n')\n",
    "    frame,bboxs=faceBox(faceNet,frame)\n",
    "    for bbox in bboxs:\n",
    "        face = frame[bbox[1]:bbox[3], bbox[0]:bbox[2]]\n",
    "        blob=cv2.dnn.blobFromImage(face,1.0,(227,227),MODEL_MEAN_VALUES,swapRB = False)\n",
    "        genderNet.setInput(blob) \n",
    "        genderPred=genderNet.forward()\n",
    "        gender=genderList[genderPred[0].argmax()]\n",
    "        \n",
    "        ageNet.setInput(blob) \n",
    "        agePred=ageNet.forward()\n",
    "        age=ageList[agePred[0].argmax()]\n",
    "        \n",
    "        label=\"{},{}\".format(gender,age)\n",
    "        #cv.rectangle\n",
    "        cv2.putText(frame,label,(bbox[0],bbox[1]-10),cv2.FONT_HERSHEY_SIMPLEX,0.8,(255,255,255),2,cv2.LINE_AA)\n",
    "        \n",
    "    cv2.imshow('Age-Gender',frame)\n",
    "    k=cv2.waitKey(1)\n",
    "    if k==ord('q'):\n",
    "        break\n",
    "video.release()\n",
    "cv2.destroyAllWindows()\n",
    "#output_file.close()"
   ]
  },
  {
   "cell_type": "code",
   "execution_count": null,
   "id": "b4abb2c6",
   "metadata": {},
   "outputs": [],
   "source": []
  },
  {
   "cell_type": "code",
   "execution_count": null,
   "id": "ae362b3d",
   "metadata": {},
   "outputs": [],
   "source": []
  }
 ],
 "metadata": {
  "kernelspec": {
   "display_name": "Python 3 (ipykernel)",
   "language": "python",
   "name": "python3"
  },
  "language_info": {
   "codemirror_mode": {
    "name": "ipython",
    "version": 3
   },
   "file_extension": ".py",
   "mimetype": "text/x-python",
   "name": "python",
   "nbconvert_exporter": "python",
   "pygments_lexer": "ipython3",
   "version": "3.12.3"
  }
 },
 "nbformat": 4,
 "nbformat_minor": 5
}
